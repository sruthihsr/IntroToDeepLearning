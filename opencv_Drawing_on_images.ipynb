{
 "cells": [
  {
   "cell_type": "code",
   "execution_count": 9,
   "metadata": {},
   "outputs": [],
   "source": [
    "import cv2\n",
    "import numpy as np"
   ]
  },
  {
   "cell_type": "code",
   "execution_count": 10,
   "metadata": {},
   "outputs": [],
   "source": [
    "img= cv2.imread(r'C:\\Users\\sruth\\OneDrive\\Desktop\\simplilearn\\Deeplearning\\fall tree.jpg',cv2.IMREAD_COLOR)\n",
    "\n"
   ]
  },
  {
   "cell_type": "code",
   "execution_count": 12,
   "metadata": {},
   "outputs": [],
   "source": [
    "\n",
    "cv2.line(img,(0,0),(1,1),(255,255,255),15)\n",
    "cv2.rectangle(img,(13,40),(40,80),(0,255,0),7)\n",
    "#cv2.circle(img,(33,66),150,(0,0,255),-6)\n",
    "cv2.imshow('fall', img)\n",
    "pts=np.array([[(12,34),(34,22),(25,66),(76,33)]],np.int32)\n",
    "cv2.polylines(img,[pts],True,(0,255,255),3)\n",
    "font=cv2.FONT_HERSHEY_SIMPLEX\n",
    "cv2.putText(img,'Opencv ! tuts',(35,13),font,1,(200,255,180),2,cv2.LINE_AA)\n",
    "cv2.waitKey(0)\n",
    "cv2.destroyAllWindows()"
   ]
  },
  {
   "cell_type": "code",
   "execution_count": 18,
   "metadata": {},
   "outputs": [],
   "source": []
  },
  {
   "cell_type": "code",
   "execution_count": null,
   "metadata": {
    "collapsed": true
   },
   "outputs": [],
   "source": []
  }
 ],
 "metadata": {
  "kernelspec": {
   "display_name": "Python 3",
   "language": "python",
   "name": "python3"
  },
  "language_info": {
   "codemirror_mode": {
    "name": "ipython",
    "version": 3
   },
   "file_extension": ".py",
   "mimetype": "text/x-python",
   "name": "python",
   "nbconvert_exporter": "python",
   "pygments_lexer": "ipython3",
   "version": "3.6.3"
  }
 },
 "nbformat": 4,
 "nbformat_minor": 2
}
